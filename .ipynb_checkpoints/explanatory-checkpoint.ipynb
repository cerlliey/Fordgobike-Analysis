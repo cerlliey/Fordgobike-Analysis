{
 "cells": [
  {
   "cell_type": "markdown",
   "id": "3fc87dc6",
   "metadata": {
    "slideshow": {
     "slide_type": "slide"
    }
   },
   "source": [
    "# Ford GoBike System Data"
   ]
  },
  {
   "cell_type": "markdown",
   "id": "1684746b",
   "metadata": {
    "slideshow": {
     "slide_type": "slide"
    }
   },
   "source": [
    "**This data set includes information about individual rides made in a bike-sharing system covering the greater San Francisco Bay area.**"
   ]
  },
  {
   "cell_type": "code",
   "execution_count": 1,
   "id": "2d2b7a73",
   "metadata": {
    "slideshow": {
     "slide_type": "skip"
    }
   },
   "outputs": [],
   "source": [
    "# import  all necessary package to work with\n",
    "import numpy as np\n",
    "import pandas as pd\n",
    "import matplotlib.pyplot as plt\n",
    "import seaborn as sb\n",
    "import glob\n",
    "import os\n",
    "import datetime\n",
    "import matplotlib.ticker as tick\n",
    "%matplotlib inline"
   ]
  },
  {
   "cell_type": "markdown",
   "id": "154c2f93",
   "metadata": {
    "slideshow": {
     "slide_type": "slide"
    }
   },
   "source": [
    "### Data Wrangling"
   ]
  },
  {
   "cell_type": "code",
   "execution_count": 2,
   "id": "c6cc4143",
   "metadata": {
    "slideshow": {
     "slide_type": "skip"
    }
   },
   "outputs": [],
   "source": [
    "#load data into df\n",
    "df = pd.read_csv('fordgobike.csv')"
   ]
  },
  {
   "cell_type": "code",
   "execution_count": 3,
   "id": "622164d3",
   "metadata": {
    "slideshow": {
     "slide_type": "skip"
    }
   },
   "outputs": [
    {
     "data": {
      "text/html": [
       "<div>\n",
       "<style scoped>\n",
       "    .dataframe tbody tr th:only-of-type {\n",
       "        vertical-align: middle;\n",
       "    }\n",
       "\n",
       "    .dataframe tbody tr th {\n",
       "        vertical-align: top;\n",
       "    }\n",
       "\n",
       "    .dataframe thead th {\n",
       "        text-align: right;\n",
       "    }\n",
       "</style>\n",
       "<table border=\"1\" class=\"dataframe\">\n",
       "  <thead>\n",
       "    <tr style=\"text-align: right;\">\n",
       "      <th></th>\n",
       "      <th>duration_sec</th>\n",
       "      <th>start_time</th>\n",
       "      <th>end_time</th>\n",
       "      <th>start_station_id</th>\n",
       "      <th>start_station_name</th>\n",
       "      <th>start_station_latitude</th>\n",
       "      <th>start_station_longitude</th>\n",
       "      <th>end_station_id</th>\n",
       "      <th>end_station_name</th>\n",
       "      <th>end_station_latitude</th>\n",
       "      <th>end_station_longitude</th>\n",
       "      <th>bike_id</th>\n",
       "      <th>user_type</th>\n",
       "      <th>member_birth_year</th>\n",
       "      <th>member_gender</th>\n",
       "      <th>bike_share_for_all_trip</th>\n",
       "    </tr>\n",
       "  </thead>\n",
       "  <tbody>\n",
       "    <tr>\n",
       "      <th>182416</th>\n",
       "      <td>384</td>\n",
       "      <td>2019-02-01 08:18:56.0940</td>\n",
       "      <td>2019-02-01 08:25:20.2030</td>\n",
       "      <td>254.0</td>\n",
       "      <td>Vine St at Shattuck Ave</td>\n",
       "      <td>37.880222</td>\n",
       "      <td>-122.269592</td>\n",
       "      <td>245.0</td>\n",
       "      <td>Downtown Berkeley BART</td>\n",
       "      <td>37.870139</td>\n",
       "      <td>-122.268422</td>\n",
       "      <td>287</td>\n",
       "      <td>Subscriber</td>\n",
       "      <td>1991.0</td>\n",
       "      <td>Male</td>\n",
       "      <td>No</td>\n",
       "    </tr>\n",
       "    <tr>\n",
       "      <th>134180</th>\n",
       "      <td>435</td>\n",
       "      <td>2019-02-08 17:46:49.2050</td>\n",
       "      <td>2019-02-08 17:54:05.0150</td>\n",
       "      <td>80.0</td>\n",
       "      <td>Townsend St at 5th St</td>\n",
       "      <td>37.775235</td>\n",
       "      <td>-122.397437</td>\n",
       "      <td>115.0</td>\n",
       "      <td>Jackson Playground</td>\n",
       "      <td>37.765026</td>\n",
       "      <td>-122.398773</td>\n",
       "      <td>3624</td>\n",
       "      <td>Subscriber</td>\n",
       "      <td>1983.0</td>\n",
       "      <td>Female</td>\n",
       "      <td>No</td>\n",
       "    </tr>\n",
       "    <tr>\n",
       "      <th>26725</th>\n",
       "      <td>284</td>\n",
       "      <td>2019-02-25 11:29:46.1800</td>\n",
       "      <td>2019-02-25 11:34:30.6090</td>\n",
       "      <td>267.0</td>\n",
       "      <td>Derby St at College Ave</td>\n",
       "      <td>37.861804</td>\n",
       "      <td>-122.253569</td>\n",
       "      <td>239.0</td>\n",
       "      <td>Bancroft Way at Telegraph Ave</td>\n",
       "      <td>37.868813</td>\n",
       "      <td>-122.258764</td>\n",
       "      <td>2220</td>\n",
       "      <td>Subscriber</td>\n",
       "      <td>1988.0</td>\n",
       "      <td>Male</td>\n",
       "      <td>No</td>\n",
       "    </tr>\n",
       "    <tr>\n",
       "      <th>126042</th>\n",
       "      <td>1114</td>\n",
       "      <td>2019-02-10 21:23:52.8410</td>\n",
       "      <td>2019-02-10 21:42:27.0540</td>\n",
       "      <td>139.0</td>\n",
       "      <td>Garfield Square (25th St at Harrison St)</td>\n",
       "      <td>37.751017</td>\n",
       "      <td>-122.411901</td>\n",
       "      <td>369.0</td>\n",
       "      <td>Hyde St at Post St</td>\n",
       "      <td>37.787349</td>\n",
       "      <td>-122.416651</td>\n",
       "      <td>5281</td>\n",
       "      <td>Subscriber</td>\n",
       "      <td>1988.0</td>\n",
       "      <td>Male</td>\n",
       "      <td>No</td>\n",
       "    </tr>\n",
       "    <tr>\n",
       "      <th>161183</th>\n",
       "      <td>358</td>\n",
       "      <td>2019-02-05 15:49:34.5630</td>\n",
       "      <td>2019-02-05 15:55:33.2000</td>\n",
       "      <td>113.0</td>\n",
       "      <td>Franklin Square</td>\n",
       "      <td>37.764555</td>\n",
       "      <td>-122.410345</td>\n",
       "      <td>223.0</td>\n",
       "      <td>16th St Mission BART Station 2</td>\n",
       "      <td>37.764765</td>\n",
       "      <td>-122.420091</td>\n",
       "      <td>2197</td>\n",
       "      <td>Subscriber</td>\n",
       "      <td>1984.0</td>\n",
       "      <td>Female</td>\n",
       "      <td>No</td>\n",
       "    </tr>\n",
       "    <tr>\n",
       "      <th>100441</th>\n",
       "      <td>657</td>\n",
       "      <td>2019-02-14 18:19:35.8730</td>\n",
       "      <td>2019-02-14 18:30:33.2040</td>\n",
       "      <td>176.0</td>\n",
       "      <td>MacArthur BART Station</td>\n",
       "      <td>37.828410</td>\n",
       "      <td>-122.266315</td>\n",
       "      <td>173.0</td>\n",
       "      <td>Shattuck Ave at 55th St</td>\n",
       "      <td>37.840364</td>\n",
       "      <td>-122.264488</td>\n",
       "      <td>3719</td>\n",
       "      <td>Subscriber</td>\n",
       "      <td>1974.0</td>\n",
       "      <td>Male</td>\n",
       "      <td>No</td>\n",
       "    </tr>\n",
       "    <tr>\n",
       "      <th>84874</th>\n",
       "      <td>1147</td>\n",
       "      <td>2019-02-17 16:20:51.1720</td>\n",
       "      <td>2019-02-17 16:39:59.1140</td>\n",
       "      <td>371.0</td>\n",
       "      <td>Lombard St at Columbus Ave</td>\n",
       "      <td>37.802746</td>\n",
       "      <td>-122.413579</td>\n",
       "      <td>6.0</td>\n",
       "      <td>The Embarcadero at Sansome St</td>\n",
       "      <td>37.804770</td>\n",
       "      <td>-122.403234</td>\n",
       "      <td>5150</td>\n",
       "      <td>Subscriber</td>\n",
       "      <td>2000.0</td>\n",
       "      <td>Male</td>\n",
       "      <td>No</td>\n",
       "    </tr>\n",
       "  </tbody>\n",
       "</table>\n",
       "</div>"
      ],
      "text/plain": [
       "        duration_sec                start_time                  end_time  \\\n",
       "182416           384  2019-02-01 08:18:56.0940  2019-02-01 08:25:20.2030   \n",
       "134180           435  2019-02-08 17:46:49.2050  2019-02-08 17:54:05.0150   \n",
       "26725            284  2019-02-25 11:29:46.1800  2019-02-25 11:34:30.6090   \n",
       "126042          1114  2019-02-10 21:23:52.8410  2019-02-10 21:42:27.0540   \n",
       "161183           358  2019-02-05 15:49:34.5630  2019-02-05 15:55:33.2000   \n",
       "100441           657  2019-02-14 18:19:35.8730  2019-02-14 18:30:33.2040   \n",
       "84874           1147  2019-02-17 16:20:51.1720  2019-02-17 16:39:59.1140   \n",
       "\n",
       "        start_station_id                        start_station_name  \\\n",
       "182416             254.0                   Vine St at Shattuck Ave   \n",
       "134180              80.0                     Townsend St at 5th St   \n",
       "26725              267.0                   Derby St at College Ave   \n",
       "126042             139.0  Garfield Square (25th St at Harrison St)   \n",
       "161183             113.0                           Franklin Square   \n",
       "100441             176.0                    MacArthur BART Station   \n",
       "84874              371.0                Lombard St at Columbus Ave   \n",
       "\n",
       "        start_station_latitude  start_station_longitude  end_station_id  \\\n",
       "182416               37.880222              -122.269592           245.0   \n",
       "134180               37.775235              -122.397437           115.0   \n",
       "26725                37.861804              -122.253569           239.0   \n",
       "126042               37.751017              -122.411901           369.0   \n",
       "161183               37.764555              -122.410345           223.0   \n",
       "100441               37.828410              -122.266315           173.0   \n",
       "84874                37.802746              -122.413579             6.0   \n",
       "\n",
       "                      end_station_name  end_station_latitude  \\\n",
       "182416          Downtown Berkeley BART             37.870139   \n",
       "134180              Jackson Playground             37.765026   \n",
       "26725    Bancroft Way at Telegraph Ave             37.868813   \n",
       "126042              Hyde St at Post St             37.787349   \n",
       "161183  16th St Mission BART Station 2             37.764765   \n",
       "100441         Shattuck Ave at 55th St             37.840364   \n",
       "84874    The Embarcadero at Sansome St             37.804770   \n",
       "\n",
       "        end_station_longitude  bike_id   user_type  member_birth_year  \\\n",
       "182416            -122.268422      287  Subscriber             1991.0   \n",
       "134180            -122.398773     3624  Subscriber             1983.0   \n",
       "26725             -122.258764     2220  Subscriber             1988.0   \n",
       "126042            -122.416651     5281  Subscriber             1988.0   \n",
       "161183            -122.420091     2197  Subscriber             1984.0   \n",
       "100441            -122.264488     3719  Subscriber             1974.0   \n",
       "84874             -122.403234     5150  Subscriber             2000.0   \n",
       "\n",
       "       member_gender bike_share_for_all_trip  \n",
       "182416          Male                      No  \n",
       "134180        Female                      No  \n",
       "26725           Male                      No  \n",
       "126042          Male                      No  \n",
       "161183        Female                      No  \n",
       "100441          Male                      No  \n",
       "84874           Male                      No  "
      ]
     },
     "execution_count": 3,
     "metadata": {},
     "output_type": "execute_result"
    }
   ],
   "source": [
    "#display sample number of 7 in the dataset\n",
    "df.sample(7)"
   ]
  },
  {
   "cell_type": "code",
   "execution_count": 4,
   "id": "1d281a7b",
   "metadata": {
    "slideshow": {
     "slide_type": "subslide"
    }
   },
   "outputs": [
    {
     "name": "stdout",
     "output_type": "stream",
     "text": [
      "<class 'pandas.core.frame.DataFrame'>\n",
      "RangeIndex: 183412 entries, 0 to 183411\n",
      "Data columns (total 16 columns):\n",
      " #   Column                   Non-Null Count   Dtype  \n",
      "---  ------                   --------------   -----  \n",
      " 0   duration_sec             183412 non-null  int64  \n",
      " 1   start_time               183412 non-null  object \n",
      " 2   end_time                 183412 non-null  object \n",
      " 3   start_station_id         183215 non-null  float64\n",
      " 4   start_station_name       183215 non-null  object \n",
      " 5   start_station_latitude   183412 non-null  float64\n",
      " 6   start_station_longitude  183412 non-null  float64\n",
      " 7   end_station_id           183215 non-null  float64\n",
      " 8   end_station_name         183215 non-null  object \n",
      " 9   end_station_latitude     183412 non-null  float64\n",
      " 10  end_station_longitude    183412 non-null  float64\n",
      " 11  bike_id                  183412 non-null  int64  \n",
      " 12  user_type                183412 non-null  object \n",
      " 13  member_birth_year        175147 non-null  float64\n",
      " 14  member_gender            175147 non-null  object \n",
      " 15  bike_share_for_all_trip  183412 non-null  object \n",
      "dtypes: float64(7), int64(2), object(7)\n",
      "memory usage: 22.4+ MB\n"
     ]
    }
   ],
   "source": [
    "#display data type of data\n",
    "df.info()"
   ]
  },
  {
   "cell_type": "code",
   "execution_count": 5,
   "id": "2fd48f3e",
   "metadata": {
    "slideshow": {
     "slide_type": "subslide"
    }
   },
   "outputs": [
    {
     "data": {
      "text/plain": [
       "duration_sec                  0\n",
       "start_time                    0\n",
       "end_time                      0\n",
       "start_station_id            197\n",
       "start_station_name          197\n",
       "start_station_latitude        0\n",
       "start_station_longitude       0\n",
       "end_station_id              197\n",
       "end_station_name            197\n",
       "end_station_latitude          0\n",
       "end_station_longitude         0\n",
       "bike_id                       0\n",
       "user_type                     0\n",
       "member_birth_year          8265\n",
       "member_gender              8265\n",
       "bike_share_for_all_trip       0\n",
       "dtype: int64"
      ]
     },
     "execution_count": 5,
     "metadata": {},
     "output_type": "execute_result"
    }
   ],
   "source": [
    "#find null values in the data\n",
    "df.isna().sum()"
   ]
  },
  {
   "cell_type": "code",
   "execution_count": 6,
   "id": "5b272505",
   "metadata": {
    "slideshow": {
     "slide_type": "subslide"
    }
   },
   "outputs": [
    {
     "data": {
      "text/plain": [
       "(183412, 16)"
      ]
     },
     "execution_count": 6,
     "metadata": {},
     "output_type": "execute_result"
    }
   ],
   "source": [
    "# check number of rows and columns in data\n",
    "df.shape"
   ]
  },
  {
   "cell_type": "code",
   "execution_count": 7,
   "id": "085aa2bb",
   "metadata": {
    "slideshow": {
     "slide_type": "skip"
    }
   },
   "outputs": [
    {
     "data": {
      "text/plain": [
       "0"
      ]
     },
     "execution_count": 7,
     "metadata": {},
     "output_type": "execute_result"
    }
   ],
   "source": [
    "#find duplicated data \n",
    "df.duplicated().sum()"
   ]
  },
  {
   "cell_type": "code",
   "execution_count": 8,
   "id": "13d501ea",
   "metadata": {
    "slideshow": {
     "slide_type": "skip"
    }
   },
   "outputs": [],
   "source": [
    "#Drop null values across the columns\n",
    "df.dropna(axis=0, inplace=True)"
   ]
  },
  {
   "cell_type": "markdown",
   "id": "6863a3ee",
   "metadata": {
    "slideshow": {
     "slide_type": "skip"
    }
   },
   "source": [
    "#### Test"
   ]
  },
  {
   "cell_type": "code",
   "execution_count": 9,
   "id": "56884809",
   "metadata": {
    "slideshow": {
     "slide_type": "subslide"
    }
   },
   "outputs": [
    {
     "data": {
      "text/plain": [
       "duration_sec               0\n",
       "start_time                 0\n",
       "end_time                   0\n",
       "start_station_id           0\n",
       "start_station_name         0\n",
       "start_station_latitude     0\n",
       "start_station_longitude    0\n",
       "end_station_id             0\n",
       "end_station_name           0\n",
       "end_station_latitude       0\n",
       "end_station_longitude      0\n",
       "bike_id                    0\n",
       "user_type                  0\n",
       "member_birth_year          0\n",
       "member_gender              0\n",
       "bike_share_for_all_trip    0\n",
       "dtype: int64"
      ]
     },
     "execution_count": 9,
     "metadata": {},
     "output_type": "execute_result"
    }
   ],
   "source": [
    "df.isna().sum()"
   ]
  },
  {
   "cell_type": "code",
   "execution_count": 10,
   "id": "e1725b58",
   "metadata": {
    "slideshow": {
     "slide_type": "skip"
    }
   },
   "outputs": [
    {
     "name": "stdout",
     "output_type": "stream",
     "text": [
      "<class 'pandas.core.frame.DataFrame'>\n",
      "Int64Index: 174952 entries, 0 to 183411\n",
      "Data columns (total 16 columns):\n",
      " #   Column                   Non-Null Count   Dtype  \n",
      "---  ------                   --------------   -----  \n",
      " 0   duration_sec             174952 non-null  int64  \n",
      " 1   start_time               174952 non-null  object \n",
      " 2   end_time                 174952 non-null  object \n",
      " 3   start_station_id         174952 non-null  float64\n",
      " 4   start_station_name       174952 non-null  object \n",
      " 5   start_station_latitude   174952 non-null  float64\n",
      " 6   start_station_longitude  174952 non-null  float64\n",
      " 7   end_station_id           174952 non-null  float64\n",
      " 8   end_station_name         174952 non-null  object \n",
      " 9   end_station_latitude     174952 non-null  float64\n",
      " 10  end_station_longitude    174952 non-null  float64\n",
      " 11  bike_id                  174952 non-null  int64  \n",
      " 12  user_type                174952 non-null  object \n",
      " 13  member_birth_year        174952 non-null  float64\n",
      " 14  member_gender            174952 non-null  object \n",
      " 15  bike_share_for_all_trip  174952 non-null  object \n",
      "dtypes: float64(7), int64(2), object(7)\n",
      "memory usage: 22.7+ MB\n"
     ]
    }
   ],
   "source": [
    "df.info()"
   ]
  },
  {
   "cell_type": "code",
   "execution_count": 11,
   "id": "f3c4c0d6",
   "metadata": {
    "slideshow": {
     "slide_type": "fragment"
    }
   },
   "outputs": [],
   "source": [
    "### Clean age, find inappropraite age in the birth year column"
   ]
  },
  {
   "cell_type": "code",
   "execution_count": 12,
   "id": "42ee6111",
   "metadata": {
    "slideshow": {
     "slide_type": "subslide"
    }
   },
   "outputs": [
    {
     "data": {
      "text/plain": [
       "count    174952.000000\n",
       "mean       1984.803135\n",
       "std          10.118731\n",
       "min        1878.000000\n",
       "25%        1980.000000\n",
       "50%        1987.000000\n",
       "75%        1992.000000\n",
       "max        2001.000000\n",
       "Name: member_birth_year, dtype: float64"
      ]
     },
     "execution_count": 12,
     "metadata": {},
     "output_type": "execute_result"
    }
   ],
   "source": [
    "df.member_birth_year.describe()"
   ]
  },
  {
   "cell_type": "code",
   "execution_count": 13,
   "id": "bd8aebff",
   "metadata": {
    "slideshow": {
     "slide_type": "skip"
    }
   },
   "outputs": [
    {
     "data": {
      "text/plain": [
       "21.0"
      ]
     },
     "execution_count": 13,
     "metadata": {},
     "output_type": "execute_result"
    }
   ],
   "source": [
    "# Substract current year and maximum year in df\n",
    "datetime.date.today().year - df.member_birth_year.max() "
   ]
  },
  {
   "cell_type": "code",
   "execution_count": 14,
   "id": "31d7a55c",
   "metadata": {
    "slideshow": {
     "slide_type": "skip"
    }
   },
   "outputs": [
    {
     "data": {
      "text/plain": [
       "144.0"
      ]
     },
     "execution_count": 14,
     "metadata": {},
     "output_type": "execute_result"
    }
   ],
   "source": [
    "# Substract current year and minimum year in df\n",
    "datetime.date.today().year - df.member_birth_year.min()"
   ]
  },
  {
   "cell_type": "code",
   "execution_count": 15,
   "id": "9b09bc35",
   "metadata": {
    "slideshow": {
     "slide_type": "skip"
    }
   },
   "outputs": [
    {
     "name": "stdout",
     "output_type": "stream",
     "text": [
      "1922\n"
     ]
    }
   ],
   "source": [
    "# drop people more than 100 years old\n",
    "print(datetime.date.today().year - 100)\n",
    "df = df.drop(df[df.member_birth_year < 1922].index )"
   ]
  },
  {
   "cell_type": "markdown",
   "id": "178b1cf1",
   "metadata": {
    "slideshow": {
     "slide_type": "skip"
    }
   },
   "source": [
    "#### Test"
   ]
  },
  {
   "cell_type": "code",
   "execution_count": 16,
   "id": "aecfbfef",
   "metadata": {
    "slideshow": {
     "slide_type": "skip"
    }
   },
   "outputs": [
    {
     "data": {
      "text/plain": [
       "95.0"
      ]
     },
     "execution_count": 16,
     "metadata": {},
     "output_type": "execute_result"
    }
   ],
   "source": [
    "datetime.date.today().year - df.member_birth_year.min()"
   ]
  },
  {
   "cell_type": "code",
   "execution_count": 17,
   "id": "4bfbbd67",
   "metadata": {
    "slideshow": {
     "slide_type": "skip"
    }
   },
   "outputs": [],
   "source": [
    "#Change start_time and end_time to datetime field in df\n",
    "df['start_time'] = pd.to_datetime(df['start_time'])\n",
    "df['end_time'] = pd.to_datetime(df['end_time'])"
   ]
  },
  {
   "cell_type": "code",
   "execution_count": 18,
   "id": "82556b1d",
   "metadata": {
    "slideshow": {
     "slide_type": "skip"
    }
   },
   "outputs": [],
   "source": [
    "# create a column of age and set dtype to interger\n",
    "df['age'] = datetime.date.today().year - df.member_birth_year  \n",
    "df['age'] = df['age'].astype(int)"
   ]
  },
  {
   "cell_type": "code",
   "execution_count": 19,
   "id": "0edfcc2a",
   "metadata": {
    "slideshow": {
     "slide_type": "skip"
    }
   },
   "outputs": [],
   "source": [
    "# create a column of duration in minutes \n",
    "df['duration_min'] = df.duration_sec // 60"
   ]
  },
  {
   "cell_type": "code",
   "execution_count": 20,
   "id": "935db1d8",
   "metadata": {
    "slideshow": {
     "slide_type": "skip"
    }
   },
   "outputs": [],
   "source": [
    "# create a column of hour & day \n",
    "df=df.assign(hour=pd.to_datetime(df['start_time']).dt.strftime(\"%H\"), day=pd.to_datetime(df['start_time']).dt.date)\n",
    "df['hour'] = df['hour'].astype(int)"
   ]
  },
  {
   "cell_type": "code",
   "execution_count": 21,
   "id": "e8ef9bfd",
   "metadata": {
    "slideshow": {
     "slide_type": "skip"
    }
   },
   "outputs": [],
   "source": [
    "# create a column of day name \n",
    "df['day_of_week'] = df['start_time'].dt.day_name()"
   ]
  },
  {
   "cell_type": "code",
   "execution_count": 22,
   "id": "5c8e5212",
   "metadata": {
    "slideshow": {
     "slide_type": "skip"
    }
   },
   "outputs": [],
   "source": [
    "### check if day is weekday or weekend "
   ]
  },
  {
   "cell_type": "code",
   "execution_count": 23,
   "id": "bc531891",
   "metadata": {
    "slideshow": {
     "slide_type": "skip"
    }
   },
   "outputs": [],
   "source": [
    "weekday = ( 'Monday' , 'Tuesday' , 'Wednesday' , 'Thursday' , 'Friday' )\n",
    "weekend = ( 'Saturday' , 'Sunday' )\n",
    "\n",
    "def type_day(day) :\n",
    "    \n",
    "    if day in weekday :\n",
    "        type_of_day = 'weekday'\n",
    "    \n",
    "    else :\n",
    "        type_of_day = 'weekend'\n",
    "        \n",
    "    return type_of_day"
   ]
  },
  {
   "cell_type": "code",
   "execution_count": 24,
   "id": "abe69b33",
   "metadata": {
    "slideshow": {
     "slide_type": "skip"
    }
   },
   "outputs": [],
   "source": [
    "#apply function into type of day\n",
    "df['type_of_day'] = df['day_of_week'].apply(type_day) "
   ]
  },
  {
   "cell_type": "code",
   "execution_count": 25,
   "id": "a17d7c30",
   "metadata": {
    "slideshow": {
     "slide_type": "skip"
    }
   },
   "outputs": [],
   "source": [
    "# Drop axis of columns \n",
    "df.drop(['start_station_latitude', 'start_station_longitude' ,\n",
    "         'end_station_latitude' , 'end_station_longitude' ,\n",
    "         'member_birth_year' , 'bike_id' , 'duration_sec'] , axis = 1 ,inplace = True) "
   ]
  },
  {
   "cell_type": "code",
   "execution_count": 26,
   "id": "e18fbfc2",
   "metadata": {
    "slideshow": {
     "slide_type": "skip"
    }
   },
   "outputs": [],
   "source": [
    "#Test"
   ]
  },
  {
   "cell_type": "code",
   "execution_count": 27,
   "id": "765de7f8",
   "metadata": {
    "slideshow": {
     "slide_type": "skip"
    }
   },
   "outputs": [
    {
     "data": {
      "text/html": [
       "<div>\n",
       "<style scoped>\n",
       "    .dataframe tbody tr th:only-of-type {\n",
       "        vertical-align: middle;\n",
       "    }\n",
       "\n",
       "    .dataframe tbody tr th {\n",
       "        vertical-align: top;\n",
       "    }\n",
       "\n",
       "    .dataframe thead th {\n",
       "        text-align: right;\n",
       "    }\n",
       "</style>\n",
       "<table border=\"1\" class=\"dataframe\">\n",
       "  <thead>\n",
       "    <tr style=\"text-align: right;\">\n",
       "      <th></th>\n",
       "      <th>start_time</th>\n",
       "      <th>end_time</th>\n",
       "      <th>start_station_id</th>\n",
       "      <th>start_station_name</th>\n",
       "      <th>end_station_id</th>\n",
       "      <th>end_station_name</th>\n",
       "      <th>user_type</th>\n",
       "      <th>member_gender</th>\n",
       "      <th>bike_share_for_all_trip</th>\n",
       "      <th>age</th>\n",
       "      <th>duration_min</th>\n",
       "      <th>hour</th>\n",
       "      <th>day</th>\n",
       "      <th>day_of_week</th>\n",
       "      <th>type_of_day</th>\n",
       "    </tr>\n",
       "  </thead>\n",
       "  <tbody>\n",
       "    <tr>\n",
       "      <th>0</th>\n",
       "      <td>2019-02-28 17:32:10.145</td>\n",
       "      <td>2019-03-01 08:01:55.975</td>\n",
       "      <td>21.0</td>\n",
       "      <td>Montgomery St BART Station (Market St at 2nd St)</td>\n",
       "      <td>13.0</td>\n",
       "      <td>Commercial St at Montgomery St</td>\n",
       "      <td>Customer</td>\n",
       "      <td>Male</td>\n",
       "      <td>No</td>\n",
       "      <td>38</td>\n",
       "      <td>869</td>\n",
       "      <td>17</td>\n",
       "      <td>2019-02-28</td>\n",
       "      <td>Thursday</td>\n",
       "      <td>weekday</td>\n",
       "    </tr>\n",
       "    <tr>\n",
       "      <th>2</th>\n",
       "      <td>2019-02-28 12:13:13.218</td>\n",
       "      <td>2019-03-01 05:24:08.146</td>\n",
       "      <td>86.0</td>\n",
       "      <td>Market St at Dolores St</td>\n",
       "      <td>3.0</td>\n",
       "      <td>Powell St BART Station (Market St at 4th St)</td>\n",
       "      <td>Customer</td>\n",
       "      <td>Male</td>\n",
       "      <td>No</td>\n",
       "      <td>50</td>\n",
       "      <td>1030</td>\n",
       "      <td>12</td>\n",
       "      <td>2019-02-28</td>\n",
       "      <td>Thursday</td>\n",
       "      <td>weekday</td>\n",
       "    </tr>\n",
       "    <tr>\n",
       "      <th>3</th>\n",
       "      <td>2019-02-28 17:54:26.010</td>\n",
       "      <td>2019-03-01 04:02:36.842</td>\n",
       "      <td>375.0</td>\n",
       "      <td>Grove St at Masonic Ave</td>\n",
       "      <td>70.0</td>\n",
       "      <td>Central Ave at Fell St</td>\n",
       "      <td>Subscriber</td>\n",
       "      <td>Other</td>\n",
       "      <td>No</td>\n",
       "      <td>33</td>\n",
       "      <td>608</td>\n",
       "      <td>17</td>\n",
       "      <td>2019-02-28</td>\n",
       "      <td>Thursday</td>\n",
       "      <td>weekday</td>\n",
       "    </tr>\n",
       "    <tr>\n",
       "      <th>4</th>\n",
       "      <td>2019-02-28 23:54:18.549</td>\n",
       "      <td>2019-03-01 00:20:44.074</td>\n",
       "      <td>7.0</td>\n",
       "      <td>Frank H Ogawa Plaza</td>\n",
       "      <td>222.0</td>\n",
       "      <td>10th Ave at E 15th St</td>\n",
       "      <td>Subscriber</td>\n",
       "      <td>Male</td>\n",
       "      <td>Yes</td>\n",
       "      <td>48</td>\n",
       "      <td>26</td>\n",
       "      <td>23</td>\n",
       "      <td>2019-02-28</td>\n",
       "      <td>Thursday</td>\n",
       "      <td>weekday</td>\n",
       "    </tr>\n",
       "    <tr>\n",
       "      <th>5</th>\n",
       "      <td>2019-02-28 23:49:58.632</td>\n",
       "      <td>2019-03-01 00:19:51.760</td>\n",
       "      <td>93.0</td>\n",
       "      <td>4th St at Mission Bay Blvd S</td>\n",
       "      <td>323.0</td>\n",
       "      <td>Broadway at Kearny</td>\n",
       "      <td>Subscriber</td>\n",
       "      <td>Male</td>\n",
       "      <td>No</td>\n",
       "      <td>63</td>\n",
       "      <td>29</td>\n",
       "      <td>23</td>\n",
       "      <td>2019-02-28</td>\n",
       "      <td>Thursday</td>\n",
       "      <td>weekday</td>\n",
       "    </tr>\n",
       "  </tbody>\n",
       "</table>\n",
       "</div>"
      ],
      "text/plain": [
       "               start_time                end_time  start_station_id  \\\n",
       "0 2019-02-28 17:32:10.145 2019-03-01 08:01:55.975              21.0   \n",
       "2 2019-02-28 12:13:13.218 2019-03-01 05:24:08.146              86.0   \n",
       "3 2019-02-28 17:54:26.010 2019-03-01 04:02:36.842             375.0   \n",
       "4 2019-02-28 23:54:18.549 2019-03-01 00:20:44.074               7.0   \n",
       "5 2019-02-28 23:49:58.632 2019-03-01 00:19:51.760              93.0   \n",
       "\n",
       "                                 start_station_name  end_station_id  \\\n",
       "0  Montgomery St BART Station (Market St at 2nd St)            13.0   \n",
       "2                           Market St at Dolores St             3.0   \n",
       "3                           Grove St at Masonic Ave            70.0   \n",
       "4                               Frank H Ogawa Plaza           222.0   \n",
       "5                      4th St at Mission Bay Blvd S           323.0   \n",
       "\n",
       "                               end_station_name   user_type member_gender  \\\n",
       "0                Commercial St at Montgomery St    Customer          Male   \n",
       "2  Powell St BART Station (Market St at 4th St)    Customer          Male   \n",
       "3                        Central Ave at Fell St  Subscriber         Other   \n",
       "4                         10th Ave at E 15th St  Subscriber          Male   \n",
       "5                            Broadway at Kearny  Subscriber          Male   \n",
       "\n",
       "  bike_share_for_all_trip  age  duration_min  hour         day day_of_week  \\\n",
       "0                      No   38           869    17  2019-02-28    Thursday   \n",
       "2                      No   50          1030    12  2019-02-28    Thursday   \n",
       "3                      No   33           608    17  2019-02-28    Thursday   \n",
       "4                     Yes   48            26    23  2019-02-28    Thursday   \n",
       "5                      No   63            29    23  2019-02-28    Thursday   \n",
       "\n",
       "  type_of_day  \n",
       "0     weekday  \n",
       "2     weekday  \n",
       "3     weekday  \n",
       "4     weekday  \n",
       "5     weekday  "
      ]
     },
     "execution_count": 27,
     "metadata": {},
     "output_type": "execute_result"
    }
   ],
   "source": [
    "df.head()"
   ]
  },
  {
   "cell_type": "code",
   "execution_count": 28,
   "id": "c8852ba2",
   "metadata": {
    "slideshow": {
     "slide_type": "skip"
    }
   },
   "outputs": [],
   "source": [
    "# save data after cleaning to csv file \n",
    "df.to_csv('fordgobike-clean.csv')"
   ]
  },
  {
   "cell_type": "markdown",
   "id": "868af882",
   "metadata": {
    "slideshow": {
     "slide_type": "slide"
    }
   },
   "source": [
    "# Exploratory Data Analysis"
   ]
  },
  {
   "cell_type": "markdown",
   "id": "f56d8ccf",
   "metadata": {
    "slideshow": {
     "slide_type": "slide"
    }
   },
   "source": [
    "\n",
    "**Univariate Exploration**"
   ]
  },
  {
   "cell_type": "code",
   "execution_count": 29,
   "id": "54b00a3a",
   "metadata": {
    "slideshow": {
     "slide_type": "subslide"
    }
   },
   "outputs": [
    {
     "data": {
      "image/png": "[encoded data removed]",
      "text/plain": [
       "<Figure size 1152x360 with 2 Axes>"
      ]
     },
     "metadata": {
      "needs_background": "light"
     },
     "output_type": "display_data"
    }
   ],
   "source": [
    "# frequency of trips across the week\n",
    "plt.figure(figsize = [16, 5])\n",
    "base_color = sb.color_palette()[0]     # to make chart one color \n",
    "days = (  'Saturday' , 'Sunday' , 'Monday' , 'Tuesday' , 'Wednesday' , 'Thursday' , 'Friday' )\n",
    "    \n",
    "    \n",
    "plt.subplot(1, 2, 1)\n",
    "sb.countplot(data= df , x='day_of_week' , color=base_color , order = days)\n",
    "plt.title('number of trips per day')\n",
    "\n",
    "\n",
    "plt.subplot(1, 2, 2)\n",
    "sb.countplot(data= df , x='type_of_day' , color=base_color)\n",
    "plt.title('number of trips per type of day');\n",
    " \n",
    "\n"
   ]
  },
  {
   "cell_type": "code",
   "execution_count": 30,
   "id": "16a2740a",
   "metadata": {
    "slideshow": {
     "slide_type": "subslide"
    }
   },
   "outputs": [
    {
     "data": {
      "image/png": "[encoded data removed]",
      "text/plain": [
       "<Figure size 576x360 with 1 Axes>"
      ]
     },
     "metadata": {
      "needs_background": "light"
     },
     "output_type": "display_data"
    }
   ],
   "source": [
    "plt.figure(figsize = [8, 5])\n",
    "base_color = sb.color_palette()[0]    \n",
    " \n",
    "sb.countplot(data= df , x='user_type' , color=base_color )\n",
    "plt.title('number of Customer vs Subscriber') ;"
   ]
  },
  {
   "cell_type": "markdown",
   "id": "98e0c202",
   "metadata": {
    "slideshow": {
     "slide_type": "slide"
    }
   },
   "source": [
    "This graph shows; Number of subscribers is more than Customers"
   ]
  },
  {
   "cell_type": "code",
   "execution_count": 31,
   "id": "31a40434",
   "metadata": {
    "slideshow": {
     "slide_type": "subslide"
    }
   },
   "outputs": [
    {
     "data": {
      "image/png": "[encoded data removed]",
      "text/plain": [
       "<Figure size 576x360 with 1 Axes>"
      ]
     },
     "metadata": {
      "needs_background": "light"
     },
     "output_type": "display_data"
    }
   ],
   "source": [
    "plt.figure(figsize = [8, 5])\n",
    "base_color = sb.color_palette()[0]    \n",
    "gender = ( 'Male' , 'Female' )\n",
    "\n",
    "sb.countplot(data= df , x='member_gender' , color=base_color , order = gender )\n",
    "plt.title('number of Male vs Female');"
   ]
  },
  {
   "cell_type": "markdown",
   "id": "fcc8a04a",
   "metadata": {
    "slideshow": {
     "slide_type": "slide"
    }
   },
   "source": [
    " This graph shows there are more male compared to female"
   ]
  },
  {
   "cell_type": "code",
   "execution_count": 32,
   "id": "e45847d3",
   "metadata": {
    "scrolled": false,
    "slideshow": {
     "slide_type": "subslide"
    }
   },
   "outputs": [
    {
     "data": {
      "image/png": "[encoded data removed]",
      "text/plain": [
       "<Figure size 576x360 with 1 Axes>"
      ]
     },
     "metadata": {
      "needs_background": "light"
     },
     "output_type": "display_data"
    }
   ],
   "source": [
    "# distribution of age\n",
    "plt.figure(figsize = [8, 5])\n",
    "bins_x = np.arange(10, df['age'].max()+5, 5)\n",
    "\n",
    "plt.hist( data= df , x='age', bins = bins_x  )\n",
    "plt.title('Distribution of Age') \n",
    "plt.xlabel('Age')\n",
    "plt.xlim((10,95)) ;"
   ]
  },
  {
   "cell_type": "markdown",
   "id": "8de05629",
   "metadata": {
    "slideshow": {
     "slide_type": "slide"
    }
   },
   "source": [
    "This graphs shows; The most age distributions is within 30s"
   ]
  },
  {
   "cell_type": "markdown",
   "id": "96f8e196",
   "metadata": {
    "slideshow": {
     "slide_type": "skip"
    }
   },
   "source": [
    "###### Test"
   ]
  },
  {
   "cell_type": "code",
   "execution_count": 33,
   "id": "6a0831f3",
   "metadata": {
    "scrolled": true,
    "slideshow": {
     "slide_type": "skip"
    }
   },
   "outputs": [
    {
     "data": {
      "text/html": [
       "<div>\n",
       "<style scoped>\n",
       "    .dataframe tbody tr th:only-of-type {\n",
       "        vertical-align: middle;\n",
       "    }\n",
       "\n",
       "    .dataframe tbody tr th {\n",
       "        vertical-align: top;\n",
       "    }\n",
       "\n",
       "    .dataframe thead th {\n",
       "        text-align: right;\n",
       "    }\n",
       "</style>\n",
       "<table border=\"1\" class=\"dataframe\">\n",
       "  <thead>\n",
       "    <tr style=\"text-align: right;\">\n",
       "      <th></th>\n",
       "      <th>start_station_id</th>\n",
       "      <th>end_station_id</th>\n",
       "      <th>age</th>\n",
       "      <th>duration_min</th>\n",
       "      <th>hour</th>\n",
       "    </tr>\n",
       "  </thead>\n",
       "  <tbody>\n",
       "    <tr>\n",
       "      <th>count</th>\n",
       "      <td>174877.000000</td>\n",
       "      <td>174877.000000</td>\n",
       "      <td>174877.00000</td>\n",
       "      <td>174877.000000</td>\n",
       "      <td>174877.000000</td>\n",
       "    </tr>\n",
       "    <tr>\n",
       "      <th>mean</th>\n",
       "      <td>138.980386</td>\n",
       "      <td>136.604127</td>\n",
       "      <td>37.16093</td>\n",
       "      <td>11.241839</td>\n",
       "      <td>13.456115</td>\n",
       "    </tr>\n",
       "    <tr>\n",
       "      <th>std</th>\n",
       "      <td>111.636777</td>\n",
       "      <td>111.333164</td>\n",
       "      <td>9.97047</td>\n",
       "      <td>27.376671</td>\n",
       "      <td>4.734410</td>\n",
       "    </tr>\n",
       "    <tr>\n",
       "      <th>min</th>\n",
       "      <td>3.000000</td>\n",
       "      <td>3.000000</td>\n",
       "      <td>21.00000</td>\n",
       "      <td>1.000000</td>\n",
       "      <td>0.000000</td>\n",
       "    </tr>\n",
       "    <tr>\n",
       "      <th>25%</th>\n",
       "      <td>47.000000</td>\n",
       "      <td>44.000000</td>\n",
       "      <td>30.00000</td>\n",
       "      <td>5.000000</td>\n",
       "      <td>9.000000</td>\n",
       "    </tr>\n",
       "    <tr>\n",
       "      <th>50%</th>\n",
       "      <td>104.000000</td>\n",
       "      <td>101.000000</td>\n",
       "      <td>35.00000</td>\n",
       "      <td>8.000000</td>\n",
       "      <td>14.000000</td>\n",
       "    </tr>\n",
       "    <tr>\n",
       "      <th>75%</th>\n",
       "      <td>239.000000</td>\n",
       "      <td>238.000000</td>\n",
       "      <td>42.00000</td>\n",
       "      <td>13.000000</td>\n",
       "      <td>17.000000</td>\n",
       "    </tr>\n",
       "    <tr>\n",
       "      <th>max</th>\n",
       "      <td>398.000000</td>\n",
       "      <td>398.000000</td>\n",
       "      <td>95.00000</td>\n",
       "      <td>1409.000000</td>\n",
       "      <td>23.000000</td>\n",
       "    </tr>\n",
       "  </tbody>\n",
       "</table>\n",
       "</div>"
      ],
      "text/plain": [
       "       start_station_id  end_station_id           age   duration_min  \\\n",
       "count     174877.000000   174877.000000  174877.00000  174877.000000   \n",
       "mean         138.980386      136.604127      37.16093      11.241839   \n",
       "std          111.636777      111.333164       9.97047      27.376671   \n",
       "min            3.000000        3.000000      21.00000       1.000000   \n",
       "25%           47.000000       44.000000      30.00000       5.000000   \n",
       "50%          104.000000      101.000000      35.00000       8.000000   \n",
       "75%          239.000000      238.000000      42.00000      13.000000   \n",
       "max          398.000000      398.000000      95.00000    1409.000000   \n",
       "\n",
       "                hour  \n",
       "count  174877.000000  \n",
       "mean       13.456115  \n",
       "std         4.734410  \n",
       "min         0.000000  \n",
       "25%         9.000000  \n",
       "50%        14.000000  \n",
       "75%        17.000000  \n",
       "max        23.000000  "
      ]
     },
     "execution_count": 33,
     "metadata": {},
     "output_type": "execute_result"
    }
   ],
   "source": [
    "df.describe()"
   ]
  },
  {
   "cell_type": "code",
   "execution_count": 34,
   "id": "f3ed4e2b",
   "metadata": {
    "scrolled": true,
    "slideshow": {
     "slide_type": "subslide"
    }
   },
   "outputs": [
    {
     "data": {
      "image/png": "[encoded data removed]",
      "text/plain": [
       "<Figure size 864x432 with 1 Axes>"
      ]
     },
     "metadata": {
      "needs_background": "light"
     },
     "output_type": "display_data"
    }
   ],
   "source": [
    "# distribution of hour \n",
    "plt.figure(figsize = [12, 6])\n",
    "bins_x = np.arange(0, df['hour'].max()+1, 1)\n",
    "\n",
    "sb.countplot( data= df , x='hour' , color=base_color )\n",
    "plt.title('Distribution of hour') \n",
    "plt.xlabel('hour')\n",
    "plt.xlim((0,25));"
   ]
  },
  {
   "cell_type": "markdown",
   "id": "f70f653d",
   "metadata": {
    "slideshow": {
     "slide_type": "slide"
    }
   },
   "source": [
    "This hraph shows rush hour is between 7am to 9am and 4pm to 6pm"
   ]
  },
  {
   "cell_type": "code",
   "execution_count": 35,
   "id": "4cadde48",
   "metadata": {
    "slideshow": {
     "slide_type": "subslide"
    }
   },
   "outputs": [
    {
     "data": {
      "image/png": "[encoded data removed]",
      "text/plain": [
       "<Figure size 720x360 with 1 Axes>"
      ]
     },
     "metadata": {
      "needs_background": "light"
     },
     "output_type": "display_data"
    }
   ],
   "source": [
    "# distribution of duration \n",
    "plt.figure(figsize = [10, 5])\n",
    "bins_x = np.arange(0,50, 1)\n",
    "\n",
    "plt.hist( data= df , x='duration_min', bins = bins_x  )\n",
    "plt.title('distribution of duration') \n",
    "plt.xlabel('duration in min');"
   ]
  },
  {
   "cell_type": "markdown",
   "id": "cc774c89",
   "metadata": {
    "slideshow": {
     "slide_type": "slide"
    }
   },
   "source": [
    "This graph shows; Most rides are taken between 3min and 20min"
   ]
  },
  {
   "cell_type": "code",
   "execution_count": 36,
   "id": "f3f83507",
   "metadata": {
    "slideshow": {
     "slide_type": "subslide"
    }
   },
   "outputs": [
    {
     "data": {
      "image/png": "[encoded data removed]",
      "text/plain": [
       "<Figure size 864x504 with 1 Axes>"
      ]
     },
     "metadata": {
      "needs_background": "light"
     },
     "output_type": "display_data"
    }
   ],
   "source": [
    "most_10_station = df['start_station_name'].value_counts().head(10).index\n",
    "\n",
    "# Frequency of top start stations \n",
    "plt.figure(figsize = [12, 7])\n",
    "base_color = sb.color_palette()[0]    \n",
    "plt.xticks(rotation=90)\n",
    "\n",
    "sb.countplot(data= df , x='start_station_name' , color=base_color , order = most_10_station )\n",
    "plt.title('Top 10 start station');"
   ]
  },
  {
   "cell_type": "code",
   "execution_count": null,
   "id": "3ad6d8f1",
   "metadata": {
    "slideshow": {
     "slide_type": "skip"
    }
   },
   "outputs": [],
   "source": []
  },
  {
   "cell_type": "markdown",
   "id": "67e00401",
   "metadata": {
    "slideshow": {
     "slide_type": "slide"
    }
   },
   "source": [
    "## Bivariate Exploration"
   ]
  },
  {
   "cell_type": "code",
   "execution_count": 37,
   "id": "ae9df5e5",
   "metadata": {
    "slideshow": {
     "slide_type": "subslide"
    }
   },
   "outputs": [
    {
     "data": {
      "image/png": "[encoded data removed]",
      "text/plain": [
       "<Figure size 864x432 with 1 Axes>"
      ]
     },
     "metadata": {
      "needs_background": "light"
     },
     "output_type": "display_data"
    }
   ],
   "source": [
    "# distribution of duration in min. Vs. gender:\n",
    "df_duration = df.query( \" duration_min <= 60\") \n",
    "plt.figure(figsize = [12, 6])\n",
    "base_color = sb.color_palette()[0]\n",
    "sb.boxplot(data=df_duration , x='member_gender' , y='duration_min' , color=base_color)\n",
    "plt.title('member gender VS duration in min') ;"
   ]
  },
  {
   "cell_type": "markdown",
   "id": "39e205aa",
   "metadata": {
    "slideshow": {
     "slide_type": "subslide"
    }
   },
   "source": [
    "this graph shows the trip duration is almost the same for all genders"
   ]
  },
  {
   "cell_type": "code",
   "execution_count": 38,
   "id": "055f3044",
   "metadata": {
    "scrolled": true
   },
   "outputs": [
    {
     "data": {
      "image/png": "[encoded data removed]",
      "text/plain": [
       "<Figure size 864x432 with 1 Axes>"
      ]
     },
     "metadata": {
      "needs_background": "light"
     },
     "output_type": "display_data"
    }
   ],
   "source": [
    "# distribution of age Vs gender user type\n",
    "df_duration = df.query( \" duration_min <= 60\") \n",
    "plt.figure(figsize = [12, 6])\n",
    "base_color = sb.color_palette()[0]\n",
    "sb.violinplot(data=df_duration , x='user_type' , y='age' , color=base_color)\n",
    "plt.title('age VS user type');"
   ]
  },
  {
   "cell_type": "code",
   "execution_count": null,
   "id": "e2335069",
   "metadata": {
    "slideshow": {
     "slide_type": "skip"
    }
   },
   "outputs": [],
   "source": []
  },
  {
   "cell_type": "code",
   "execution_count": 39,
   "id": "bdf240ad",
   "metadata": {
    "slideshow": {
     "slide_type": "subslide"
    }
   },
   "outputs": [
    {
     "data": {
      "image/png": "[encoded data removed]",
      "text/plain": [
       "<Figure size 864x432 with 1 Axes>"
      ]
     },
     "metadata": {
      "needs_background": "light"
     },
     "output_type": "display_data"
    }
   ],
   "source": [
    "# distribution of age Vs. gender:\n",
    "plt.figure(figsize = [12, 6])\n",
    "base_color = sb.color_palette()[0]\n",
    "sb.boxplot(data=df_duration , x='member_gender' , y='age' , color=base_color)\n",
    "plt.title('member gender VS. age') ;"
   ]
  },
  {
   "cell_type": "code",
   "execution_count": 40,
   "id": "0191a8cb",
   "metadata": {
    "slideshow": {
     "slide_type": "subslide"
    }
   },
   "outputs": [
    {
     "data": {
      "image/png": "[encoded data removed]",
      "text/plain": [
       "<Figure size 720x432 with 1 Axes>"
      ]
     },
     "metadata": {
      "needs_background": "light"
     },
     "output_type": "display_data"
    }
   ],
   "source": [
    "# distribution of age Vs. gender:\n",
    "plt.figure(figsize = [10, 6])\n",
    "\n",
    "sb.histplot(data=df, x='age', stat='count', discrete=True, hue='member_gender', multiple='stack', alpha = 1)\n",
    "plt.title('member gender VS. age ');"
   ]
  },
  {
   "cell_type": "code",
   "execution_count": 41,
   "id": "208520c1",
   "metadata": {
    "scrolled": true,
    "slideshow": {
     "slide_type": "subslide"
    }
   },
   "outputs": [
    {
     "data": {
      "image/png": "[encoded data removed]",
      "text/plain": [
       "<Figure size 1152x360 with 2 Axes>"
      ]
     },
     "metadata": {
      "needs_background": "light"
     },
     "output_type": "display_data"
    }
   ],
   "source": [
    "# Plotting numberof trip Vs weekdays Vs the type of day:\n",
    "\n",
    "plt.figure(figsize = [16, 5])\n",
    "\n",
    "plt.subplot(1, 2, 1)\n",
    "sb.countplot(data=df , x='day_of_week', hue='user_type')\n",
    "plt.title('num. of trip VS day') \n",
    "plt.xticks(rotation=90)\n",
    "    \n",
    "plt.subplot(1, 2, 2)\n",
    "sb.countplot(data=df , x='type_of_day', hue='user_type')\n",
    "plt.title('num. of trip VS type of day') ;"
   ]
  },
  {
   "cell_type": "markdown",
   "id": "cc4cea5c",
   "metadata": {
    "slideshow": {
     "slide_type": "slide"
    }
   },
   "source": [
    "This graph shows;\n",
    "Number of customer is the same across all of weekday , but slightly less in the weekend\n",
    "Number of subscriber is greatly reduced in the weekend   "
   ]
  },
  {
   "cell_type": "code",
   "execution_count": 42,
   "id": "282b4fd0",
   "metadata": {
    "scrolled": true,
    "slideshow": {
     "slide_type": "subslide"
    }
   },
   "outputs": [
    {
     "data": {
      "image/png": "[encoded data removed]",
      "text/plain": [
       "<Figure size 864x432 with 1 Axes>"
      ]
     },
     "metadata": {
      "needs_background": "light"
     },
     "output_type": "display_data"
    }
   ],
   "source": [
    "\n",
    "\n",
    "# distribution of hour vs user type\n",
    "plt.figure(figsize = [12, 6])\n",
    " \n",
    "sb.countplot( data= df , x='hour' , hue = 'user_type')\n",
    "plt.title('Distribution of user type across hour') \n",
    "plt.xlabel('hour') ;\n",
    "\n"
   ]
  },
  {
   "cell_type": "markdown",
   "id": "dcff45ab",
   "metadata": {
    "slideshow": {
     "slide_type": "slide"
    }
   },
   "source": [
    "this graph shows; \n",
    "\n",
    "subscriber will likely use Bike in rush hour and\n",
    "customer will use Bike in rush hour."
   ]
  },
  {
   "cell_type": "code",
   "execution_count": 43,
   "id": "84808277",
   "metadata": {
    "scrolled": true,
    "slideshow": {
     "slide_type": "subslide"
    }
   },
   "outputs": [
    {
     "data": {
      "image/png": "[encoded data removed]",
      "text/plain": [
       "<Figure size 720x360 with 1 Axes>"
      ]
     },
     "metadata": {
      "needs_background": "light"
     },
     "output_type": "display_data"
    }
   ],
   "source": [
    "# plotting duration in min. VS age\n",
    "plt.figure(figsize = [10,5])\n",
    "sb.regplot(data = df , x = 'age', y = 'duration_min');\n",
    "plt.title('duration in min. VS age') ;"
   ]
  },
  {
   "cell_type": "markdown",
   "id": "cbd4c0ea",
   "metadata": {
    "slideshow": {
     "slide_type": "slide"
    }
   },
   "source": [
    "There is no relationship between duration in minute and age"
   ]
  },
  {
   "cell_type": "code",
   "execution_count": null,
   "id": "239fb983",
   "metadata": {
    "scrolled": true,
    "slideshow": {
     "slide_type": "subslide"
    }
   },
   "outputs": [],
   "source": [
    "# plotting duration in min. VS hour\n",
    "plt.figure(figsize = [10, 5])\n",
    "sb.regplot(data = df , x = 'hour', y = 'duration_min');\n",
    "plt.title('duration in min. VS hour');"
   ]
  },
  {
   "cell_type": "markdown",
   "id": "c8d06793",
   "metadata": {
    "slideshow": {
     "slide_type": "slide"
    }
   },
   "source": [
    "There is no relationship between hour and duration in min."
   ]
  },
  {
   "cell_type": "markdown",
   "id": "241f95d8",
   "metadata": {
    "slideshow": {
     "slide_type": "slide"
    }
   },
   "source": [
    "## Multivariate Exploration"
   ]
  },
  {
   "cell_type": "code",
   "execution_count": null,
   "id": "f3780580",
   "metadata": {
    "scrolled": true,
    "slideshow": {
     "slide_type": "subslide"
    }
   },
   "outputs": [],
   "source": [
    "# age VS hour. VS member gender \n",
    "g = sb.FacetGrid(data = df, hue = 'member_gender', size = 5)\n",
    "g.map(plt.scatter, 'age', 'hour')\n",
    "g.add_legend() \n",
    "plt.title('age VS hour. VS member gender ');"
   ]
  },
  {
   "cell_type": "markdown",
   "id": "39276774",
   "metadata": {
    "slideshow": {
     "slide_type": "slide"
    }
   },
   "source": [
    "This graph shows; \n",
    "\n",
    "There is no relationship between hour , age and gender."
   ]
  },
  {
   "cell_type": "code",
   "execution_count": null,
   "id": "f6277fa8",
   "metadata": {
    "slideshow": {
     "slide_type": "subslide"
    }
   },
   "outputs": [],
   "source": [
    "# age VS duration in min. VS member gender\n",
    "g = sb.FacetGrid(data = df, hue = 'member_gender', size = 6)\n",
    "g.map(plt.scatter, 'age', 'duration_min')\n",
    "g.add_legend() \n",
    "plt.title('age VS duration in min. VS member gender ');"
   ]
  },
  {
   "cell_type": "markdown",
   "id": "72b2a681",
   "metadata": {
    "slideshow": {
     "slide_type": "slide"
    }
   },
   "source": [
    "this graph shows; There is no relationship between duration in min. , age and gender ."
   ]
  },
  {
   "cell_type": "code",
   "execution_count": null,
   "id": "d12ef349",
   "metadata": {
    "scrolled": true,
    "slideshow": {
     "slide_type": "subslide"
    }
   },
   "outputs": [],
   "source": [
    "# age VS user type VS member gender \n",
    "g = sb.FacetGrid(data = df, col = 'member_gender', size = 5)\n",
    "g.map(sb.scatterplot, 'user_type', 'age')\n",
    "plt.title('age VS user type VS member gender ');"
   ]
  },
  {
   "cell_type": "markdown",
   "id": "893eb22c",
   "metadata": {
    "slideshow": {
     "slide_type": "slide"
    }
   },
   "source": [
    "This graph shows no relationship"
   ]
  },
  {
   "cell_type": "code",
   "execution_count": null,
   "id": "90936457",
   "metadata": {
    "slideshow": {
     "slide_type": "subslide"
    }
   },
   "outputs": [],
   "source": [
    "plt.figure(figsize = [10,6])\n",
    "\n",
    "ax = sb.barplot(data = df, x = 'user_type', y = 'age', hue = 'member_gender')\n",
    "ax.legend(loc = 8, ncol = 3, framealpha = 1, title = 'member_gender')\n",
    "plt.title('age VS user type VS member gender ') ;"
   ]
  },
  {
   "cell_type": "markdown",
   "id": "4dd049ba",
   "metadata": {
    "slideshow": {
     "slide_type": "slide"
    }
   },
   "source": [
    "This graph shows; distribution is nearly the same across customers and Subscribers"
   ]
  },
  {
   "cell_type": "markdown",
   "id": "874fbb75",
   "metadata": {
    "slideshow": {
     "slide_type": "slide"
    }
   },
   "source": [
    "\n",
    "Findings\n",
    "\n",
    "1 -number of trip at the weekday is about three times more than in the weekend\n",
    "\n",
    "2-number of male much more than female.\n",
    "\n",
    "3-number of Subscriber is about seven times more than Customer\n",
    "\n",
    "4-Most bike rides are between 25 and 35 years old\n",
    "\n",
    "5-the most ride take between 3 and 20 min\n",
    "\n",
    "6-Rush hour between (7am : 9am) and (4pm : 6pm)\n"
   ]
  }
 ],
 "metadata": {
  "celltoolbar": "Slideshow",
  "kernelspec": {
   "display_name": "Python 3 (ipykernel)",
   "language": "python",
   "name": "python3"
  },
  "language_info": {
   "codemirror_mode": {
    "name": "ipython",
    "version": 3
   },
   "file_extension": ".py",
   "mimetype": "text/x-python",
   "name": "python",
   "nbconvert_exporter": "python",
   "pygments_lexer": "ipython3",
   "version": "3.10.4"
  }
 },
 "nbformat": 4,
 "nbformat_minor": 5
}
