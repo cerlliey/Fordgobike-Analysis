{
 "cells": [
  {
   "cell_type": "code",
   "execution_count": 2,
   "id": "7bd8e467",
   "metadata": {
    "slideshow": {
     "slide_type": "skip"
    }
   },
   "outputs": [],
   "source": [
    "# import  all necessary package to work with\n",
    "import numpy as np\n",
    "import pandas as pd\n",
    "import matplotlib.pyplot as plt\n",
    "import seaborn as sb\n",
    "import glob\n",
    "import os\n",
    "import datetime\n",
    "import warnings\n",
    "warnings.filterwarnings('ignore')\n",
    "import matplotlib.ticker as tick\n",
    "%matplotlib inline"
   ]
  },
  {
   "cell_type": "code",
   "execution_count": 3,
   "id": "f3b36c78",
   "metadata": {
    "slideshow": {
     "slide_type": "skip"
    }
   },
   "outputs": [],
   "source": [
    "#load data into df\n",
    "df = pd.read_csv('fordgobike-clean.csv')"
   ]
  },
  {
   "cell_type": "code",
   "execution_count": 4,
   "id": "1a56f07c",
   "metadata": {
    "slideshow": {
     "slide_type": "skip"
    }
   },
   "outputs": [
    {
     "data": {
      "text/html": [
       "<div>\n",
       "<style scoped>\n",
       "    .dataframe tbody tr th:only-of-type {\n",
       "        vertical-align: middle;\n",
       "    }\n",
       "\n",
       "    .dataframe tbody tr th {\n",
       "        vertical-align: top;\n",
       "    }\n",
       "\n",
       "    .dataframe thead th {\n",
       "        text-align: right;\n",
       "    }\n",
       "</style>\n",
       "<table border=\"1\" class=\"dataframe\">\n",
       "  <thead>\n",
       "    <tr style=\"text-align: right;\">\n",
       "      <th></th>\n",
       "      <th>Unnamed: 0</th>\n",
       "      <th>start_time</th>\n",
       "      <th>end_time</th>\n",
       "      <th>start_station_id</th>\n",
       "      <th>start_station_name</th>\n",
       "      <th>end_station_id</th>\n",
       "      <th>end_station_name</th>\n",
       "      <th>user_type</th>\n",
       "      <th>member_gender</th>\n",
       "      <th>bike_share_for_all_trip</th>\n",
       "      <th>age</th>\n",
       "      <th>duration_min</th>\n",
       "      <th>hour</th>\n",
       "      <th>day</th>\n",
       "      <th>day_of_week</th>\n",
       "      <th>type_of_day</th>\n",
       "    </tr>\n",
       "  </thead>\n",
       "  <tbody>\n",
       "    <tr>\n",
       "      <th>0</th>\n",
       "      <td>0</td>\n",
       "      <td>2019-02-28 17:32:10.145</td>\n",
       "      <td>2019-03-01 08:01:55.975</td>\n",
       "      <td>21.0</td>\n",
       "      <td>Montgomery St BART Station (Market St at 2nd St)</td>\n",
       "      <td>13.0</td>\n",
       "      <td>Commercial St at Montgomery St</td>\n",
       "      <td>Customer</td>\n",
       "      <td>Male</td>\n",
       "      <td>No</td>\n",
       "      <td>38</td>\n",
       "      <td>869</td>\n",
       "      <td>17</td>\n",
       "      <td>2019-02-28</td>\n",
       "      <td>Thursday</td>\n",
       "      <td>weekday</td>\n",
       "    </tr>\n",
       "    <tr>\n",
       "      <th>1</th>\n",
       "      <td>2</td>\n",
       "      <td>2019-02-28 12:13:13.218</td>\n",
       "      <td>2019-03-01 05:24:08.146</td>\n",
       "      <td>86.0</td>\n",
       "      <td>Market St at Dolores St</td>\n",
       "      <td>3.0</td>\n",
       "      <td>Powell St BART Station (Market St at 4th St)</td>\n",
       "      <td>Customer</td>\n",
       "      <td>Male</td>\n",
       "      <td>No</td>\n",
       "      <td>50</td>\n",
       "      <td>1030</td>\n",
       "      <td>12</td>\n",
       "      <td>2019-02-28</td>\n",
       "      <td>Thursday</td>\n",
       "      <td>weekday</td>\n",
       "    </tr>\n",
       "    <tr>\n",
       "      <th>2</th>\n",
       "      <td>3</td>\n",
       "      <td>2019-02-28 17:54:26.010</td>\n",
       "      <td>2019-03-01 04:02:36.842</td>\n",
       "      <td>375.0</td>\n",
       "      <td>Grove St at Masonic Ave</td>\n",
       "      <td>70.0</td>\n",
       "      <td>Central Ave at Fell St</td>\n",
       "      <td>Subscriber</td>\n",
       "      <td>Other</td>\n",
       "      <td>No</td>\n",
       "      <td>33</td>\n",
       "      <td>608</td>\n",
       "      <td>17</td>\n",
       "      <td>2019-02-28</td>\n",
       "      <td>Thursday</td>\n",
       "      <td>weekday</td>\n",
       "    </tr>\n",
       "    <tr>\n",
       "      <th>3</th>\n",
       "      <td>4</td>\n",
       "      <td>2019-02-28 23:54:18.549</td>\n",
       "      <td>2019-03-01 00:20:44.074</td>\n",
       "      <td>7.0</td>\n",
       "      <td>Frank H Ogawa Plaza</td>\n",
       "      <td>222.0</td>\n",
       "      <td>10th Ave at E 15th St</td>\n",
       "      <td>Subscriber</td>\n",
       "      <td>Male</td>\n",
       "      <td>Yes</td>\n",
       "      <td>48</td>\n",
       "      <td>26</td>\n",
       "      <td>23</td>\n",
       "      <td>2019-02-28</td>\n",
       "      <td>Thursday</td>\n",
       "      <td>weekday</td>\n",
       "    </tr>\n",
       "    <tr>\n",
       "      <th>4</th>\n",
       "      <td>5</td>\n",
       "      <td>2019-02-28 23:49:58.632</td>\n",
       "      <td>2019-03-01 00:19:51.760</td>\n",
       "      <td>93.0</td>\n",
       "      <td>4th St at Mission Bay Blvd S</td>\n",
       "      <td>323.0</td>\n",
       "      <td>Broadway at Kearny</td>\n",
       "      <td>Subscriber</td>\n",
       "      <td>Male</td>\n",
       "      <td>No</td>\n",
       "      <td>63</td>\n",
       "      <td>29</td>\n",
       "      <td>23</td>\n",
       "      <td>2019-02-28</td>\n",
       "      <td>Thursday</td>\n",
       "      <td>weekday</td>\n",
       "    </tr>\n",
       "  </tbody>\n",
       "</table>\n",
       "</div>"
      ],
      "text/plain": [
       "   Unnamed: 0               start_time                 end_time  \\\n",
       "0           0  2019-02-28 17:32:10.145  2019-03-01 08:01:55.975   \n",
       "1           2  2019-02-28 12:13:13.218  2019-03-01 05:24:08.146   \n",
       "2           3  2019-02-28 17:54:26.010  2019-03-01 04:02:36.842   \n",
       "3           4  2019-02-28 23:54:18.549  2019-03-01 00:20:44.074   \n",
       "4           5  2019-02-28 23:49:58.632  2019-03-01 00:19:51.760   \n",
       "\n",
       "   start_station_id                                start_station_name  \\\n",
       "0              21.0  Montgomery St BART Station (Market St at 2nd St)   \n",
       "1              86.0                           Market St at Dolores St   \n",
       "2             375.0                           Grove St at Masonic Ave   \n",
       "3               7.0                               Frank H Ogawa Plaza   \n",
       "4              93.0                      4th St at Mission Bay Blvd S   \n",
       "\n",
       "   end_station_id                              end_station_name   user_type  \\\n",
       "0            13.0                Commercial St at Montgomery St    Customer   \n",
       "1             3.0  Powell St BART Station (Market St at 4th St)    Customer   \n",
       "2            70.0                        Central Ave at Fell St  Subscriber   \n",
       "3           222.0                         10th Ave at E 15th St  Subscriber   \n",
       "4           323.0                            Broadway at Kearny  Subscriber   \n",
       "\n",
       "  member_gender bike_share_for_all_trip  age  duration_min  hour         day  \\\n",
       "0          Male                      No   38           869    17  2019-02-28   \n",
       "1          Male                      No   50          1030    12  2019-02-28   \n",
       "2         Other                      No   33           608    17  2019-02-28   \n",
       "3          Male                     Yes   48            26    23  2019-02-28   \n",
       "4          Male                      No   63            29    23  2019-02-28   \n",
       "\n",
       "  day_of_week type_of_day  \n",
       "0    Thursday     weekday  \n",
       "1    Thursday     weekday  \n",
       "2    Thursday     weekday  \n",
       "3    Thursday     weekday  \n",
       "4    Thursday     weekday  "
      ]
     },
     "execution_count": 4,
     "metadata": {},
     "output_type": "execute_result"
    }
   ],
   "source": [
    "df.head()"
   ]
  },
  {
   "cell_type": "code",
   "execution_count": 5,
   "id": "d804ad08",
   "metadata": {
    "slideshow": {
     "slide_type": "skip"
    }
   },
   "outputs": [
    {
     "name": "stdout",
     "output_type": "stream",
     "text": [
      "<class 'pandas.core.frame.DataFrame'>\n",
      "RangeIndex: 174877 entries, 0 to 174876\n",
      "Data columns (total 16 columns):\n",
      " #   Column                   Non-Null Count   Dtype  \n",
      "---  ------                   --------------   -----  \n",
      " 0   Unnamed: 0               174877 non-null  int64  \n",
      " 1   start_time               174877 non-null  object \n",
      " 2   end_time                 174877 non-null  object \n",
      " 3   start_station_id         174877 non-null  float64\n",
      " 4   start_station_name       174877 non-null  object \n",
      " 5   end_station_id           174877 non-null  float64\n",
      " 6   end_station_name         174877 non-null  object \n",
      " 7   user_type                174877 non-null  object \n",
      " 8   member_gender            174877 non-null  object \n",
      " 9   bike_share_for_all_trip  174877 non-null  object \n",
      " 10  age                      174877 non-null  int64  \n",
      " 11  duration_min             174877 non-null  int64  \n",
      " 12  hour                     174877 non-null  int64  \n",
      " 13  day                      174877 non-null  object \n",
      " 14  day_of_week              174877 non-null  object \n",
      " 15  type_of_day              174877 non-null  object \n",
      "dtypes: float64(2), int64(4), object(10)\n",
      "memory usage: 21.3+ MB\n"
     ]
    }
   ],
   "source": [
    "df.info()"
   ]
  },
  {
   "cell_type": "markdown",
   "id": "33bd6c04",
   "metadata": {
    "slideshow": {
     "slide_type": "slide"
    }
   },
   "source": [
    "### User type destribution\n",
    "\n",
    "**Most of users Ford GoBike service are subscribers (91%)**\n"
   ]
  },
  {
   "cell_type": "code",
   "execution_count": 6,
   "id": "1c09c668",
   "metadata": {
    "scrolled": false,
    "slideshow": {
     "slide_type": "subslide"
    }
   },
   "outputs": [
    {
     "data": {
      "image/png": "[encoded data removed]",
      "text/plain": [
       "<Figure size 720x360 with 1 Axes>"
      ]
     },
     "metadata": {
      "needs_background": "light"
     },
     "output_type": "display_data"
    }
   ],
   "source": [
    "fig, ax = plt.subplots(figsize = (10,5))\n",
    "base_color = sb.color_palette()[0]    \n",
    " \n",
    "sb.countplot(data= df, x='user_type', order = df['user_type'].value_counts().index,\n",
    "             color=base_color)\n",
    "plt.title('number of Customer vs Subscriber') ;\n",
    "\n",
    "# Calculate % for each user types \n",
    "perc_list = []\n",
    "type_sum = df['user_type'].value_counts().to_list()\n",
    "total_sum = df.shape[0]\n",
    "for i in range(0,len(type_sum)):\n",
    "    percent = int(round(100 * type_sum[i] / total_sum))\n",
    "    perc_list.append(percent) \n",
    "# Annotate bars\n",
    "i=0\n",
    "for p in ax.patches:\n",
    "    ax.annotate('{:.0f}%'.format(perc_list[i]), \n",
    "                (p.get_x()+p.get_width()/2, p.get_height()), \n",
    "                ha=\"center\", va=\"bottom\", color='black', size=13)\n",
    "    i+=1\n",
    "plt.ylim([0, 170000])\n",
    "plt.title('User type Distribution\\n', size=20)\n",
    "sb.despine(fig, left = True)\n",
    "cur_axes = plt.gca()\n",
    "cur_axes.axes.get_yaxis().set_visible(False)\n",
    "plt.xlabel(\"\");"
   ]
  },
  {
   "cell_type": "markdown",
   "id": "46d18b70",
   "metadata": {
    "slideshow": {
     "slide_type": "slide"
    }
   },
   "source": [
    "\n",
    "### Gender destribution by user types\n",
    "\n",
    "**The majority of users are men both among subscribers and customers**\n"
   ]
  },
  {
   "cell_type": "code",
   "execution_count": 7,
   "id": "95daf20b",
   "metadata": {
    "slideshow": {
     "slide_type": "subslide"
    }
   },
   "outputs": [
    {
     "data": {
      "image/png": "[encoded data removed]",
      "text/plain": [
       "<Figure size 864x360 with 1 Axes>"
      ]
     },
     "metadata": {
      "needs_background": "light"
     },
     "output_type": "display_data"
    }
   ],
   "source": [
    "fig, ax = plt.subplots(figsize = (12,5))\n",
    "sb.countplot(data = df, x = \"member_gender\", \n",
    "               hue = \"user_type\", alpha = 0.8)\n",
    "# Percentage for each gender\n",
    "perc_list_customer, perc_list_subscriber, perc_list = [], [], []\n",
    "type_sum = df.groupby('member_gender')['user_type'].value_counts().sort_index().to_list()\n",
    "total_sum = df['member_gender'].value_counts().sort_index().to_list()\n",
    "\n",
    "# arrange the % list in same as annotate loop order\n",
    "for i in range(0,len(total_sum)):\n",
    "    perc_customer = int(round(100 * type_sum[2*i] / total_sum[i]))\n",
    "    perc_list_customer.append(perc_customer)\n",
    "for i in range(0,len(total_sum)):\n",
    "    perc_subscriber = int(round(100 * type_sum[2*i+1]/ total_sum[i]))\n",
    "    perc_list_subscriber.append(perc_subscriber)\n",
    "perc_list = perc_list_customer + perc_list_subscriber\n",
    "\n",
    "# annotate each bar\n",
    "i=0\n",
    "for p in ax.patches:\n",
    "    ax.annotate('{:.0f}%'.format(perc_list[i]), \n",
    "                (p.get_x()+p.get_width()/2, p.get_height()), \n",
    "                ha=\"center\", va=\"bottom\", color='black', size=13)\n",
    "    i+=1\n",
    "\n",
    "cur_axes = plt.gca()\n",
    "cur_axes.axes.get_yaxis().set_visible(False)\n",
    "sb.despine(fig, left = True)\n",
    "plt.title('Users Type by Gender', fontsize= 20)\n",
    "plt.xlabel('');"
   ]
  },
  {
   "cell_type": "markdown",
   "id": "50df3ecb",
   "metadata": {
    "slideshow": {
     "slide_type": "slide"
    }
   },
   "source": [
    "\n",
    "## Number of customer\n",
    "\n",
    "**Number of customer is the same across all of weekday , but slightly less in the weekend Number of subscriber is greatly reduced in the weekend**"
   ]
  },
  {
   "cell_type": "code",
   "execution_count": 17,
   "id": "f1e8f367",
   "metadata": {
    "slideshow": {
     "slide_type": "subslide"
    }
   },
   "outputs": [
    {
     "data": {
      "image/png": "[encoded data removed]",
      "text/plain": [
       "<Figure size 1152x360 with 2 Axes>"
      ]
     },
     "metadata": {
      "needs_background": "light"
     },
     "output_type": "display_data"
    }
   ],
   "source": [
    "# Plotting numberof trip Vs weekdays Vs the type of day:\n",
    "weekday_index = ['Monday', 'Tuesday', 'Wednesday', 'Thursday', 'Friday', 'Saturday', 'Sunday']\n",
    "plt.figure(figsize = [16, 5])\n",
    "\n",
    "plt.subplot(1, 2, 1)\n",
    "sb.countplot(data=df , x='day_of_week', hue='user_type', order=weekday_index)\n",
    "plt.title('num. of trip VS day') \n",
    "plt.xticks(rotation=90)\n",
    "    \n",
    "plt.subplot(1, 2, 2)\n",
    "sb.countplot(data=df , x='type_of_day', hue='user_type')\n",
    "plt.title('num. of trip VS type of day');\n"
   ]
  },
  {
   "cell_type": "markdown",
   "id": "52948ba2",
   "metadata": {
    "slideshow": {
     "slide_type": "slide"
    }
   },
   "source": [
    "### Relationship between Duration of ride and user_type age\n",
    "\n",
    "There is no relationship between duration in minute and age\n"
   ]
  },
  {
   "cell_type": "code",
   "execution_count": 9,
   "id": "2815efe8",
   "metadata": {
    "scrolled": true,
    "slideshow": {
     "slide_type": "subslide"
    }
   },
   "outputs": [
    {
     "data": {
      "image/png": "[encoded data removed]",
      "text/plain": [
       "<Figure size 720x360 with 1 Axes>"
      ]
     },
     "metadata": {
      "needs_background": "light"
     },
     "output_type": "display_data"
    }
   ],
   "source": [
    "# plotting duration in min. VS age\n",
    "plt.figure(figsize = [10,5])\n",
    "sb.regplot(data = df , x = 'age', y = 'duration_min');\n",
    "plt.title('duration in min. VS age') ;"
   ]
  }
 ],
 "metadata": {
  "celltoolbar": "Slideshow",
  "kernelspec": {
   "display_name": "Python 3 (ipykernel)",
   "language": "python",
   "name": "python3"
  },
  "language_info": {
   "codemirror_mode": {
    "name": "ipython",
    "version": 3
   },
   "file_extension": ".py",
   "mimetype": "text/x-python",
   "name": "python",
   "nbconvert_exporter": "python",
   "pygments_lexer": "ipython3",
   "version": "3.10.6"
  }
 },
 "nbformat": 4,
 "nbformat_minor": 5
}
